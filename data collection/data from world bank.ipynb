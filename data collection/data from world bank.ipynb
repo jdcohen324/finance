{
 "cells": [
  {
   "cell_type": "code",
   "execution_count": 3,
   "metadata": {},
   "outputs": [
    {
     "name": "stdout",
     "output_type": "stream",
     "text": [
      "Collecting world_bank_data\n",
      "  Downloading world_bank_data-0.1.3.tar.gz (12 kB)\n",
      "Requirement already satisfied, skipping upgrade: pandas in c:\\users\\jdcoh\\anaconda3\\lib\\site-packages (from world_bank_data) (1.0.1)\n",
      "Requirement already satisfied, skipping upgrade: requests in c:\\users\\jdcoh\\anaconda3\\lib\\site-packages (from world_bank_data) (2.22.0)\n",
      "Collecting cachetools\n",
      "  Downloading cachetools-4.1.0-py3-none-any.whl (10 kB)\n",
      "Requirement already satisfied, skipping upgrade: python-dateutil>=2.6.1 in c:\\users\\jdcoh\\anaconda3\\lib\\site-packages (from pandas->world_bank_data) (2.8.1)\n",
      "Requirement already satisfied, skipping upgrade: numpy>=1.13.3 in c:\\users\\jdcoh\\anaconda3\\lib\\site-packages (from pandas->world_bank_data) (1.18.1)\n",
      "Requirement already satisfied, skipping upgrade: pytz>=2017.2 in c:\\users\\jdcoh\\anaconda3\\lib\\site-packages (from pandas->world_bank_data) (2019.3)\n",
      "Requirement already satisfied, skipping upgrade: urllib3!=1.25.0,!=1.25.1,<1.26,>=1.21.1 in c:\\users\\jdcoh\\anaconda3\\lib\\site-packages (from requests->world_bank_data) (1.25.8)\n",
      "Requirement already satisfied, skipping upgrade: certifi>=2017.4.17 in c:\\users\\jdcoh\\anaconda3\\lib\\site-packages (from requests->world_bank_data) (2019.11.28)\n",
      "Requirement already satisfied, skipping upgrade: chardet<3.1.0,>=3.0.2 in c:\\users\\jdcoh\\anaconda3\\lib\\site-packages (from requests->world_bank_data) (3.0.4)\n",
      "Requirement already satisfied, skipping upgrade: idna<2.9,>=2.5 in c:\\users\\jdcoh\\anaconda3\\lib\\site-packages (from requests->world_bank_data) (2.8)\n",
      "Requirement already satisfied, skipping upgrade: six>=1.5 in c:\\users\\jdcoh\\anaconda3\\lib\\site-packages (from python-dateutil>=2.6.1->pandas->world_bank_data) (1.14.0)\n",
      "Building wheels for collected packages: world-bank-data\n",
      "  Building wheel for world-bank-data (setup.py): started\n",
      "  Building wheel for world-bank-data (setup.py): finished with status 'done'\n",
      "  Created wheel for world-bank-data: filename=world_bank_data-0.1.3-py3-none-any.whl size=11102 sha256=44f59b09b59b4dc3bbf605b9964e118e1523bfd70be25f103dc6b3c0106501b1\n",
      "  Stored in directory: c:\\users\\jdcoh\\appdata\\local\\pip\\cache\\wheels\\95\\74\\5e\\c32dde16dc1ef8d8e9cf134ac93ae723ffec4f60be9c4873f5\n",
      "Successfully built world-bank-data\n",
      "Installing collected packages: cachetools, world-bank-data\n",
      "Successfully installed cachetools-4.1.0 world-bank-data-0.1.3\n",
      "Note: you may need to restart the kernel to use updated packages.\n"
     ]
    }
   ],
   "source": [
    "pip install world_bank_data --upgrade"
   ]
  },
  {
   "cell_type": "code",
   "execution_count": 4,
   "metadata": {},
   "outputs": [],
   "source": [
    "import pandas as pd\n",
    "import world_bank_data as wb\n",
    "pd.set_option('display.max_rows', 6)"
   ]
  },
  {
   "cell_type": "code",
   "execution_count": 14,
   "metadata": {},
   "outputs": [
    {
     "data": {
      "text/html": [
       "<div>\n",
       "<style scoped>\n",
       "    .dataframe tbody tr th:only-of-type {\n",
       "        vertical-align: middle;\n",
       "    }\n",
       "\n",
       "    .dataframe tbody tr th {\n",
       "        vertical-align: top;\n",
       "    }\n",
       "\n",
       "    .dataframe thead th {\n",
       "        text-align: right;\n",
       "    }\n",
       "</style>\n",
       "<table border=\"1\" class=\"dataframe\">\n",
       "  <thead>\n",
       "    <tr style=\"text-align: right;\">\n",
       "      <th></th>\n",
       "      <th>iso2Code</th>\n",
       "      <th>name</th>\n",
       "      <th>region</th>\n",
       "      <th>adminregion</th>\n",
       "      <th>incomeLevel</th>\n",
       "      <th>lendingType</th>\n",
       "      <th>capitalCity</th>\n",
       "      <th>longitude</th>\n",
       "      <th>latitude</th>\n",
       "    </tr>\n",
       "    <tr>\n",
       "      <th>id</th>\n",
       "      <th></th>\n",
       "      <th></th>\n",
       "      <th></th>\n",
       "      <th></th>\n",
       "      <th></th>\n",
       "      <th></th>\n",
       "      <th></th>\n",
       "      <th></th>\n",
       "      <th></th>\n",
       "    </tr>\n",
       "  </thead>\n",
       "  <tbody>\n",
       "    <tr>\n",
       "      <th>ABW</th>\n",
       "      <td>AW</td>\n",
       "      <td>Aruba</td>\n",
       "      <td>Latin America &amp; Caribbean</td>\n",
       "      <td></td>\n",
       "      <td>High income</td>\n",
       "      <td>Not classified</td>\n",
       "      <td>Oranjestad</td>\n",
       "      <td>-70.0167</td>\n",
       "      <td>12.51670</td>\n",
       "    </tr>\n",
       "    <tr>\n",
       "      <th>AFG</th>\n",
       "      <td>AF</td>\n",
       "      <td>Afghanistan</td>\n",
       "      <td>South Asia</td>\n",
       "      <td>South Asia</td>\n",
       "      <td>Low income</td>\n",
       "      <td>IDA</td>\n",
       "      <td>Kabul</td>\n",
       "      <td>69.1761</td>\n",
       "      <td>34.52280</td>\n",
       "    </tr>\n",
       "    <tr>\n",
       "      <th>AFR</th>\n",
       "      <td>A9</td>\n",
       "      <td>Africa</td>\n",
       "      <td>Aggregates</td>\n",
       "      <td></td>\n",
       "      <td>Aggregates</td>\n",
       "      <td>Aggregates</td>\n",
       "      <td></td>\n",
       "      <td>NaN</td>\n",
       "      <td>NaN</td>\n",
       "    </tr>\n",
       "    <tr>\n",
       "      <th>AGO</th>\n",
       "      <td>AO</td>\n",
       "      <td>Angola</td>\n",
       "      <td>Sub-Saharan Africa</td>\n",
       "      <td>Sub-Saharan Africa (excluding high income)</td>\n",
       "      <td>Lower middle income</td>\n",
       "      <td>IBRD</td>\n",
       "      <td>Luanda</td>\n",
       "      <td>13.2420</td>\n",
       "      <td>-8.81155</td>\n",
       "    </tr>\n",
       "    <tr>\n",
       "      <th>ALB</th>\n",
       "      <td>AL</td>\n",
       "      <td>Albania</td>\n",
       "      <td>Europe &amp; Central Asia</td>\n",
       "      <td>Europe &amp; Central Asia (excluding high income)</td>\n",
       "      <td>Upper middle income</td>\n",
       "      <td>IBRD</td>\n",
       "      <td>Tirane</td>\n",
       "      <td>19.8172</td>\n",
       "      <td>41.33170</td>\n",
       "    </tr>\n",
       "  </tbody>\n",
       "</table>\n",
       "</div>"
      ],
      "text/plain": [
       "    iso2Code         name                      region  \\\n",
       "id                                                      \n",
       "ABW       AW        Aruba  Latin America & Caribbean    \n",
       "AFG       AF  Afghanistan                  South Asia   \n",
       "AFR       A9       Africa                  Aggregates   \n",
       "AGO       AO       Angola         Sub-Saharan Africa    \n",
       "ALB       AL      Albania       Europe & Central Asia   \n",
       "\n",
       "                                       adminregion          incomeLevel  \\\n",
       "id                                                                        \n",
       "ABW                                                         High income   \n",
       "AFG                                     South Asia           Low income   \n",
       "AFR                                                          Aggregates   \n",
       "AGO     Sub-Saharan Africa (excluding high income)  Lower middle income   \n",
       "ALB  Europe & Central Asia (excluding high income)  Upper middle income   \n",
       "\n",
       "        lendingType capitalCity  longitude  latitude  \n",
       "id                                                    \n",
       "ABW  Not classified  Oranjestad   -70.0167  12.51670  \n",
       "AFG             IDA       Kabul    69.1761  34.52280  \n",
       "AFR      Aggregates                    NaN       NaN  \n",
       "AGO            IBRD      Luanda    13.2420  -8.81155  \n",
       "ALB            IBRD      Tirane    19.8172  41.33170  "
      ]
     },
     "execution_count": 14,
     "metadata": {},
     "output_type": "execute_result"
    }
   ],
   "source": [
    "countries = wb.get_countries()\n",
    "df = pd.DataFrame(countries)\n",
    "df.head()"
   ]
  },
  {
   "cell_type": "code",
   "execution_count": 35,
   "metadata": {},
   "outputs": [],
   "source": [
    "new = pd.DataFrame(df[df.region != 'Sub-Saharan Africa '])"
   ]
  },
  {
   "cell_type": "code",
   "execution_count": 42,
   "metadata": {},
   "outputs": [
    {
     "name": "stdout",
     "output_type": "stream",
     "text": [
      "    iso2Code          name                      region  \\\n",
      "id                                                       \n",
      "ABW       AW         Aruba  Latin America & Caribbean    \n",
      "AFG       AF   Afghanistan                  South Asia   \n",
      "AFR       A9        Africa                  Aggregates   \n",
      "..       ...           ...                         ...   \n",
      "ZAF       ZA  South Africa         Sub-Saharan Africa    \n",
      "ZMB       ZM        Zambia         Sub-Saharan Africa    \n",
      "ZWE       ZW      Zimbabwe         Sub-Saharan Africa    \n",
      "\n",
      "                                    adminregion          incomeLevel  \\\n",
      "id                                                                     \n",
      "ABW                                                      High income   \n",
      "AFG                                  South Asia           Low income   \n",
      "AFR                                                       Aggregates   \n",
      "..                                          ...                  ...   \n",
      "ZAF  Sub-Saharan Africa (excluding high income)  Upper middle income   \n",
      "ZMB  Sub-Saharan Africa (excluding high income)  Lower middle income   \n",
      "ZWE  Sub-Saharan Africa (excluding high income)  Lower middle income   \n",
      "\n",
      "        lendingType capitalCity  longitude  latitude  \n",
      "id                                                    \n",
      "ABW  Not classified  Oranjestad   -70.0167   12.5167  \n",
      "AFG             IDA       Kabul    69.1761   34.5228  \n",
      "AFR      Aggregates                    NaN       NaN  \n",
      "..              ...         ...        ...       ...  \n",
      "ZAF            IBRD    Pretoria    28.1871  -25.7460  \n",
      "ZMB             IDA      Lusaka    28.2937  -15.3982  \n",
      "ZWE           Blend      Harare    31.0672  -17.8312  \n",
      "\n",
      "[304 rows x 9 columns]\n"
     ]
    }
   ],
   "source": [
    "new = pd.DataFrame(df[df.region != 'aggregates'])\n"
   ]
  },
  {
   "cell_type": "code",
   "execution_count": null,
   "metadata": {},
   "outputs": [],
   "source": []
  }
 ],
 "metadata": {
  "kernelspec": {
   "display_name": "Python 3",
   "language": "python",
   "name": "python3"
  },
  "language_info": {
   "codemirror_mode": {
    "name": "ipython",
    "version": 3
   },
   "file_extension": ".py",
   "mimetype": "text/x-python",
   "name": "python",
   "nbconvert_exporter": "python",
   "pygments_lexer": "ipython3",
   "version": "3.7.6"
  }
 },
 "nbformat": 4,
 "nbformat_minor": 4
}
